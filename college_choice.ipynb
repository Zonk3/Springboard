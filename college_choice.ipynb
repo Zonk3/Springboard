{
 "cells": [
  {
   "cell_type": "code",
   "execution_count": 37,
   "metadata": {},
   "outputs": [],
   "source": [
    "import pandas as pd\n"
   ]
  },
  {
   "cell_type": "code",
   "execution_count": 57,
   "metadata": {},
   "outputs": [
    {
     "name": "stdout",
     "output_type": "stream",
     "text": [
      "   UNITID    OPEID  opeid6                               INSTNM        CITY  \\\n",
      "0  100654   100200    1002             Alabama A & M University      Normal   \n",
      "1  100663   105200    1052  University of Alabama at Birmingham  Birmingham   \n",
      "2  100690  2503400   25034                   Amridge University  Montgomery   \n",
      "3  100706   105500    1055  University of Alabama in Huntsville  Huntsville   \n",
      "4  100724   100500    1005             Alabama State University  Montgomery   \n",
      "\n",
      "  STABBR         ZIP                                       AccredAgency  \\\n",
      "0     AL       35762  Southern Association of Colleges and Schools C...   \n",
      "1     AL  35294-0110  Southern Association of Colleges and Schools C...   \n",
      "2     AL  36117-3553  Southern Association of Colleges and Schools C...   \n",
      "3     AL       35899  Southern Association of Colleges and Schools C...   \n",
      "4     AL  36104-0271  Southern Association of Colleges and Schools C...   \n",
      "\n",
      "                          INSTURL  \\\n",
      "0                   www.aamu.edu/   \n",
      "1                     www.uab.edu   \n",
      "2       www.amridgeuniversity.edu   \n",
      "3                     www.uah.edu   \n",
      "4  www.alasu.edu/email/index.aspx   \n",
      "\n",
      "                                              NPCURL         ...          \\\n",
      "0     galileo.aamu.edu/netpricecalculator/npcalc.htm         ...           \n",
      "1    www.collegeportraits.org/AL/UAB/estimator/agree         ...           \n",
      "2  tcc.noellevitz.com/(S(miwoihs5stz5cpyifh4nczu0...         ...           \n",
      "3                                    finaid.uah.edu/         ...           \n",
      "4  www.alasu.edu/cost-aid/forms/calculator/index....         ...           \n",
      "\n",
      "   PELL_RPY_3YR_RT_SUPP  NOPELL_RPY_3YR_RT_SUPP  FEMALE_RPY_3YR_RT_SUPP  \\\n",
      "0        0.443586698337           0.45251396648          0.484818805093   \n",
      "1        0.732297852901          0.795454545455          0.760521885522   \n",
      "2        0.600877192982                   0.775          0.610465116279   \n",
      "3        0.738341968912           0.85140562249          0.768378650554   \n",
      "4        0.320016820858          0.380829015544          0.364423717522   \n",
      "\n",
      "   MALE_RPY_3YR_RT_SUPP  FIRSTGEN_RPY_3YR_RT_SUPP  \\\n",
      "0                 0.406            0.423580786026   \n",
      "1        0.755344418052            0.751552795031   \n",
      "2        0.686567164179            0.632653061224   \n",
      "3        0.798440979955            0.778156996587   \n",
      "4        0.286530612245            0.315737051793   \n",
      "\n",
      "   NOTFIRSTGEN_RPY_3YR_RT_SUPP  C150_L4_POOLED_SUPP  C150_4_POOLED_SUPP  \\\n",
      "0               0.442452830189                  NaN    0.30871831265508   \n",
      "1               0.765074770863                  NaN    0.50854980789381   \n",
      "2                         0.65                  NaN   PrivacySuppressed   \n",
      "3               0.791666666667                  NaN    0.47821134615384   \n",
      "4               0.334633385335                  NaN    0.25748195545488   \n",
      "\n",
      "   C200_L4_POOLED_SUPP  C200_4_POOLED_SUPP  \n",
      "0                  NaN    0.35168556430446  \n",
      "1                  NaN     0.4730923834537  \n",
      "2                  NaN   PrivacySuppressed  \n",
      "3                  NaN    0.49412939796716  \n",
      "4                  NaN    0.29365162671232  \n",
      "\n",
      "[5 rows x 1729 columns]\n"
     ]
    },
    {
     "name": "stderr",
     "output_type": "stream",
     "text": [
      "C:\\Conda\\lib\\site-packages\\IPython\\core\\interactiveshell.py:2785: DtypeWarning: Columns (7,9,1427,1542,1561,1575,1725,1726,1727,1728) have mixed types. Specify dtype option on import or set low_memory=False.\n",
      "  interactivity=interactivity, compiler=compiler, result=result)\n"
     ]
    }
   ],
   "source": [
    "# read the data\n",
    "c= pd.read_csv(\"C://college_data/nrippner-opportunity-project-use-case/CollegeScorecard1.csv\")\n",
    "#c= pd.read_csv(\"https://data.world/uncc-dsba/dsba-6100-spring-2017/workspace/file?filename=CollegeScorecard.csv\")\n",
    "\n",
    "print(c.head())"
   ]
  },
  {
   "cell_type": "code",
   "execution_count": 58,
   "metadata": {},
   "outputs": [
    {
     "name": "stdout",
     "output_type": "stream",
     "text": [
      "7804\n",
      "11.0\n",
      "13.0\n",
      "   UNITID    OPEID  opeid6                               INSTNM        CITY  \\\n",
      "0  100654   100200    1002             Alabama A & M University      Normal   \n",
      "1  100663   105200    1052  University of Alabama at Birmingham  Birmingham   \n",
      "2  100690  2503400   25034                   Amridge University  Montgomery   \n",
      "3  100706   105500    1055  University of Alabama in Huntsville  Huntsville   \n",
      "4  100724   100500    1005             Alabama State University  Montgomery   \n",
      "\n",
      "  STABBR         ZIP                                       AccredAgency  \\\n",
      "0     AL       35762  Southern Association of Colleges and Schools C...   \n",
      "1     AL  35294-0110  Southern Association of Colleges and Schools C...   \n",
      "2     AL  36117-3553  Southern Association of Colleges and Schools C...   \n",
      "3     AL       35899  Southern Association of Colleges and Schools C...   \n",
      "4     AL  36104-0271  Southern Association of Colleges and Schools C...   \n",
      "\n",
      "                          INSTURL  \\\n",
      "0                   www.aamu.edu/   \n",
      "1                     www.uab.edu   \n",
      "2       www.amridgeuniversity.edu   \n",
      "3                     www.uah.edu   \n",
      "4  www.alasu.edu/email/index.aspx   \n",
      "\n",
      "                                              NPCURL         ...          \\\n",
      "0     galileo.aamu.edu/netpricecalculator/npcalc.htm         ...           \n",
      "1    www.collegeportraits.org/AL/UAB/estimator/agree         ...           \n",
      "2  tcc.noellevitz.com/(S(miwoihs5stz5cpyifh4nczu0...         ...           \n",
      "3                                    finaid.uah.edu/         ...           \n",
      "4  www.alasu.edu/cost-aid/forms/calculator/index....         ...           \n",
      "\n",
      "   PELL_RPY_3YR_RT_SUPP  NOPELL_RPY_3YR_RT_SUPP  FEMALE_RPY_3YR_RT_SUPP  \\\n",
      "0        0.443586698337           0.45251396648          0.484818805093   \n",
      "1        0.732297852901          0.795454545455          0.760521885522   \n",
      "2        0.600877192982                   0.775          0.610465116279   \n",
      "3        0.738341968912           0.85140562249          0.768378650554   \n",
      "4        0.320016820858          0.380829015544          0.364423717522   \n",
      "\n",
      "   MALE_RPY_3YR_RT_SUPP  FIRSTGEN_RPY_3YR_RT_SUPP  \\\n",
      "0                 0.406            0.423580786026   \n",
      "1        0.755344418052            0.751552795031   \n",
      "2        0.686567164179            0.632653061224   \n",
      "3        0.798440979955            0.778156996587   \n",
      "4        0.286530612245            0.315737051793   \n",
      "\n",
      "   NOTFIRSTGEN_RPY_3YR_RT_SUPP  C150_L4_POOLED_SUPP  C150_4_POOLED_SUPP  \\\n",
      "0               0.442452830189                  NaN    0.30871831265508   \n",
      "1               0.765074770863                  NaN    0.50854980789381   \n",
      "2                         0.65                  NaN   PrivacySuppressed   \n",
      "3               0.791666666667                  NaN    0.47821134615384   \n",
      "4               0.334633385335                  NaN    0.25748195545488   \n",
      "\n",
      "   C200_L4_POOLED_SUPP  C200_4_POOLED_SUPP  \n",
      "0                  NaN    0.35168556430446  \n",
      "1                  NaN     0.4730923834537  \n",
      "2                  NaN   PrivacySuppressed  \n",
      "3                  NaN    0.49412939796716  \n",
      "4                  NaN    0.29365162671232  \n",
      "\n",
      "[5 rows x 1729 columns]\n",
      "3585\n"
     ]
    }
   ],
   "source": [
    "#filter for cities, check that list was shortened\n",
    "print(len(c.index))\n",
    "c = (c.loc[c['LOCALE'].isin([11,12,13])])\n",
    "print(c.LOCALE.min())\n",
    "print(c.LOCALE.max())\n",
    "print(c.head())\n",
    "print(len(c.index))"
   ]
  },
  {
   "cell_type": "code",
   "execution_count": 59,
   "metadata": {},
   "outputs": [
    {
     "name": "stdout",
     "output_type": "stream",
     "text": [
      "3585\n",
      "2313\n"
     ]
    }
   ],
   "source": [
    "#filter colleges not granting 2 and 4 year degrees\n",
    "print(len(c.index))\n",
    "c = (c.loc[c['HIGHDEG'].isin([2,3,4])])\n",
    "print(len(c.index))\n"
   ]
  },
  {
   "cell_type": "code",
   "execution_count": 60,
   "metadata": {},
   "outputs": [
    {
     "name": "stdout",
     "output_type": "stream",
     "text": [
      "1283\n"
     ]
    }
   ],
   "source": [
    "# find colleges with Information Science\n",
    "c = c.loc[c['PCIP11'] > 0]\n",
    "print(len(c.index))"
   ]
  },
  {
   "cell_type": "code",
   "execution_count": 75,
   "metadata": {},
   "outputs": [
    {
     "name": "stdout",
     "output_type": "stream",
     "text": [
      "886\n",
      "   UNITID    OPEID  opeid6                               INSTNM        CITY  \\\n",
      "0  100654   100200    1002             Alabama A & M University      Normal   \n",
      "1  100663   105200    1052  University of Alabama at Birmingham  Birmingham   \n",
      "2  100690  2503400   25034                   Amridge University  Montgomery   \n",
      "3  100706   105500    1055  University of Alabama in Huntsville  Huntsville   \n",
      "4  100724   100500    1005             Alabama State University  Montgomery   \n",
      "\n",
      "  STABBR         ZIP                                       AccredAgency  \\\n",
      "0     AL       35762  Southern Association of Colleges and Schools C...   \n",
      "1     AL  35294-0110  Southern Association of Colleges and Schools C...   \n",
      "2     AL  36117-3553  Southern Association of Colleges and Schools C...   \n",
      "3     AL       35899  Southern Association of Colleges and Schools C...   \n",
      "4     AL  36104-0271  Southern Association of Colleges and Schools C...   \n",
      "\n",
      "                          INSTURL  \\\n",
      "0                   www.aamu.edu/   \n",
      "1                     www.uab.edu   \n",
      "2       www.amridgeuniversity.edu   \n",
      "3                     www.uah.edu   \n",
      "4  www.alasu.edu/email/index.aspx   \n",
      "\n",
      "                                              NPCURL         ...          \\\n",
      "0     galileo.aamu.edu/netpricecalculator/npcalc.htm         ...           \n",
      "1    www.collegeportraits.org/AL/UAB/estimator/agree         ...           \n",
      "2  tcc.noellevitz.com/(S(miwoihs5stz5cpyifh4nczu0...         ...           \n",
      "3                                    finaid.uah.edu/         ...           \n",
      "4  www.alasu.edu/cost-aid/forms/calculator/index....         ...           \n",
      "\n",
      "   PELL_RPY_3YR_RT_SUPP  NOPELL_RPY_3YR_RT_SUPP  FEMALE_RPY_3YR_RT_SUPP  \\\n",
      "0        0.443586698337           0.45251396648          0.484818805093   \n",
      "1        0.732297852901          0.795454545455          0.760521885522   \n",
      "2        0.600877192982                   0.775          0.610465116279   \n",
      "3        0.738341968912           0.85140562249          0.768378650554   \n",
      "4        0.320016820858          0.380829015544          0.364423717522   \n",
      "\n",
      "   MALE_RPY_3YR_RT_SUPP  FIRSTGEN_RPY_3YR_RT_SUPP  \\\n",
      "0                 0.406            0.423580786026   \n",
      "1        0.755344418052            0.751552795031   \n",
      "2        0.686567164179            0.632653061224   \n",
      "3        0.798440979955            0.778156996587   \n",
      "4        0.286530612245            0.315737051793   \n",
      "\n",
      "   NOTFIRSTGEN_RPY_3YR_RT_SUPP  C150_L4_POOLED_SUPP  C150_4_POOLED_SUPP  \\\n",
      "0               0.442452830189                  NaN    0.30871831265508   \n",
      "1               0.765074770863                  NaN    0.50854980789381   \n",
      "2                         0.65                  NaN   PrivacySuppressed   \n",
      "3               0.791666666667                  NaN    0.47821134615384   \n",
      "4               0.334633385335                  NaN    0.25748195545488   \n",
      "\n",
      "   C200_L4_POOLED_SUPP  C200_4_POOLED_SUPP  \n",
      "0                  NaN    0.35168556430446  \n",
      "1                  NaN     0.4730923834537  \n",
      "2                  NaN   PrivacySuppressed  \n",
      "3                  NaN    0.49412939796716  \n",
      "4                  NaN    0.29365162671232  \n",
      "\n",
      "[5 rows x 1729 columns]\n"
     ]
    }
   ],
   "source": [
    "#find programs offering ASSOC or BACHL programs (1 or 2 in those columns)\n",
    "c = c.loc[(c['CIP11BACHL'] > 0) | (c['CIP11ASSOC'] > 0)]\n",
    "print(len(c.index))\n",
    "print(c.head())"
   ]
  },
  {
   "cell_type": "code",
   "execution_count": 76,
   "metadata": {},
   "outputs": [
    {
     "name": "stdout",
     "output_type": "stream",
     "text": [
      "                                INSTNM        CITY  HIGHDEG  PCIP11  \\\n",
      "0             Alabama A & M University      Normal        4  0.0348   \n",
      "1  University of Alabama at Birmingham  Birmingham        4  0.0099   \n",
      "2                   Amridge University  Montgomery        4  0.0411   \n",
      "3  University of Alabama in Huntsville  Huntsville        4  0.0273   \n",
      "4             Alabama State University  Montgomery        4  0.0450   \n",
      "\n",
      "   CIP11BACHL  CIP11ASSOC  \n",
      "0         2.0         0.0  \n",
      "1         2.0         0.0  \n",
      "2         2.0         2.0  \n",
      "3         2.0         0.0  \n",
      "4         2.0         0.0  \n"
     ]
    }
   ],
   "source": [
    "#filter down to necessary columns\n",
    "c1 = c[['INSTNM', 'CITY', 'HIGHDEG', 'PCIP11', 'CIP11BACHL', 'CIP11ASSOC']].copy()\n",
    "print(c1.head())"
   ]
  },
  {
   "cell_type": "code",
   "execution_count": null,
   "metadata": {},
   "outputs": [],
   "source": []
  }
 ],
 "metadata": {
  "kernelspec": {
   "display_name": "Python 3",
   "language": "python",
   "name": "python3"
  },
  "language_info": {
   "codemirror_mode": {
    "name": "ipython",
    "version": 3
   },
   "file_extension": ".py",
   "mimetype": "text/x-python",
   "name": "python",
   "nbconvert_exporter": "python",
   "pygments_lexer": "ipython3",
   "version": "3.6.5"
  }
 },
 "nbformat": 4,
 "nbformat_minor": 2
}
